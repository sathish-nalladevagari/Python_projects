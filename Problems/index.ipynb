{
 "cells": [
  {
   "cell_type": "code",
   "execution_count": 3,
   "metadata": {},
   "outputs": [
    {
     "data": {
      "text/plain": [
       "103"
      ]
     },
     "execution_count": 3,
     "metadata": {},
     "output_type": "execute_result"
    }
   ],
   "source": [
    "def find_ascii(char):\n",
    "    return ord(char)\n",
    "find_ascii('g')"
   ]
  },
  {
   "cell_type": "code",
   "execution_count": 5,
   "metadata": {},
   "outputs": [
    {
     "data": {
      "text/plain": [
       "89.6"
      ]
     },
     "execution_count": 5,
     "metadata": {},
     "output_type": "execute_result"
    }
   ],
   "source": [
    "def cel_to_far(cel):\n",
    "    return (1.8 * cel) + 32\n",
    "cel_to_far(32)"
   ]
  },
  {
   "cell_type": "code",
   "execution_count": 9,
   "metadata": {},
   "outputs": [
    {
     "data": {
      "text/plain": [
       "False"
      ]
     },
     "execution_count": 9,
     "metadata": {},
     "output_type": "execute_result"
    }
   ],
   "source": [
    "def even_or_odd(num):\n",
    "    if num% 2 == 0 :\n",
    "        return True\n",
    "    else:\n",
    "        return False\n",
    "\n",
    "even_or_odd(7)"
   ]
  },
  {
   "cell_type": "code",
   "execution_count": 13,
   "metadata": {},
   "outputs": [
    {
     "data": {
      "text/plain": [
       "True"
      ]
     },
     "execution_count": 13,
     "metadata": {},
     "output_type": "execute_result"
    }
   ],
   "source": [
    "def vowelorconstant(char):\n",
    "    seen = {\n",
    "        'a' : 'vowel',\n",
    "        'e' : 'vowel',\n",
    "        'i' : 'vowel',\n",
    "        'o' : 'vowel',\n",
    "        'u' : 'vowel',\n",
    "        'A' : 'vowel',\n",
    "        'E' : 'vowel',\n",
    "        'I' : 'vowel',\n",
    "        'O' : 'vowel',\n",
    "        'U' : 'vowel',\n",
    "    }\n",
    "    if char in seen:\n",
    "        return True\n",
    "    return False\n",
    "\n",
    "vowelorconstant('e')"
   ]
  },
  {
   "cell_type": "code",
   "execution_count": 15,
   "metadata": {},
   "outputs": [
    {
     "data": {
      "text/plain": [
       "'c is large'"
      ]
     },
     "execution_count": 15,
     "metadata": {},
     "output_type": "execute_result"
    }
   ],
   "source": [
    "def large_among_3(a,b,c):\n",
    "    if a > b and a > c:\n",
    "        return 'a is largeset'\n",
    "    elif b > a and b > c:\n",
    "        return 'b is large'\n",
    "    elif c > a and c > b:\n",
    "        return 'c is large'\n",
    "large_among_3(1,2,3)"
   ]
  },
  {
   "cell_type": "code",
   "execution_count": 20,
   "metadata": {},
   "outputs": [
    {
     "data": {
      "text/plain": [
       "True"
      ]
     },
     "execution_count": 20,
     "metadata": {},
     "output_type": "execute_result"
    }
   ],
   "source": [
    "def leap_year(year):\n",
    "    if (year % 4 ==0 and year % 100 != 0) or (year % 400 == 0):\n",
    "        return True\n",
    "    return False\n",
    "leap_year(2020)"
   ]
  },
  {
   "cell_type": "code",
   "execution_count": 24,
   "metadata": {},
   "outputs": [
    {
     "name": "stdout",
     "output_type": "stream",
     "text": [
      "120\n"
     ]
    }
   ],
   "source": [
    "n = int(input('Enter'))\n",
    "fact = 1\n",
    "while n > 0:\n",
    "    fact = fact * n\n",
    "    n-=1\n",
    "print(fact)"
   ]
  },
  {
   "cell_type": "code",
   "execution_count": 29,
   "metadata": {},
   "outputs": [
    {
     "data": {
      "text/plain": [
       "120"
      ]
     },
     "execution_count": 29,
     "metadata": {},
     "output_type": "execute_result"
    }
   ],
   "source": [
    "def factorial(n):\n",
    "    return 1 if (n == 0 or n ==1) else n * factorial(n-1)\n",
    "factorial(5)"
   ]
  },
  {
   "cell_type": "code",
   "execution_count": 32,
   "metadata": {},
   "outputs": [
    {
     "data": {
      "text/plain": [
       "55"
      ]
     },
     "execution_count": 32,
     "metadata": {},
     "output_type": "execute_result"
    }
   ],
   "source": [
    "def sum_of_natural(n):\n",
    "    return n * (n+1) //2\n",
    "sum_of_natural(10)"
   ]
  },
  {
   "cell_type": "code",
   "execution_count": 36,
   "metadata": {},
   "outputs": [
    {
     "data": {
      "text/plain": [
       "[0, 1, 1, 2, 3, 5, 8, 13, 21, 34]"
      ]
     },
     "execution_count": 36,
     "metadata": {},
     "output_type": "execute_result"
    }
   ],
   "source": [
    "def fibonacci(n):\n",
    "    fib = [0,1]\n",
    "    for _ in range(2,n):\n",
    "        next = fib[-1] + fib[-2]\n",
    "        fib.append(next)\n",
    "    return fib\n",
    "fibonacci(10)\n"
   ]
  },
  {
   "cell_type": "code",
   "execution_count": 29,
   "metadata": {},
   "outputs": [
    {
     "data": {
      "text/plain": [
       "True"
      ]
     },
     "execution_count": 29,
     "metadata": {},
     "output_type": "execute_result"
    }
   ],
   "source": [
    "def prime_num(num):\n",
    "    if num <= 1:\n",
    "        return False\n",
    "    for i in range(2,num):\n",
    "        if num % i == 0:\n",
    "            return False\n",
    "    return True\n",
    "prime_num(19)\n"
   ]
  },
  {
   "cell_type": "code",
   "execution_count": 28,
   "metadata": {},
   "outputs": [
    {
     "name": "stdout",
     "output_type": "stream",
     "text": [
      "2\n",
      "3\n",
      "5\n",
      "7\n",
      "11\n",
      "13\n",
      "17\n",
      "19\n"
     ]
    }
   ],
   "source": [
    "\n",
    "for i in range(1,20):\n",
    "    if prime_num(i) == True:\n",
    "        print(i)\n",
    "    "
   ]
  },
  {
   "cell_type": "code",
   "execution_count": 30,
   "metadata": {},
   "outputs": [
    {
     "data": {
      "text/plain": [
       "[1, 2, 5, 10]"
      ]
     },
     "execution_count": 30,
     "metadata": {},
     "output_type": "execute_result"
    }
   ],
   "source": [
    "def factors(num):\n",
    "    factors = []\n",
    "    for i in range(1, num +1):\n",
    "        if num % i ==0:\n",
    "            factors.append(i)\n",
    "    return factors\n",
    "factors(10)"
   ]
  },
  {
   "cell_type": "code",
   "execution_count": 33,
   "metadata": {},
   "outputs": [
    {
     "data": {
      "text/plain": [
       "True"
      ]
     },
     "execution_count": 33,
     "metadata": {},
     "output_type": "execute_result"
    }
   ],
   "source": [
    "def is_prime(num):\n",
    "    if num <=1:\n",
    "        return False\n",
    "    for i in range(2,num):\n",
    "        if num % i ==0 :\n",
    "            return False\n",
    "    return True\n",
    "is_prime(29)"
   ]
  },
  {
   "cell_type": "code",
   "execution_count": 34,
   "metadata": {},
   "outputs": [
    {
     "name": "stdout",
     "output_type": "stream",
     "text": [
      "2\n",
      "3\n",
      "5\n",
      "7\n"
     ]
    }
   ],
   "source": [
    "def primes(nums):\n",
    "    for i in range(1,nums + 1):\n",
    "        if is_prime(i) == True:\n",
    "            print(i)\n",
    "primes(10)"
   ]
  },
  {
   "cell_type": "code",
   "execution_count": 37,
   "metadata": {},
   "outputs": [],
   "source": [
    "def reverse(num):\n",
    "    num = num % 10\n",
    "reverse(1234)"
   ]
  },
  {
   "cell_type": "code",
   "execution_count": 32,
   "metadata": {},
   "outputs": [
    {
     "name": "stdout",
     "output_type": "stream",
     "text": [
      "654321\n"
     ]
    }
   ],
   "source": [
    "n = 123456\n",
    "rev = 0\n",
    "while n > 0:\n",
    "    digit = n % 10\n",
    "    rev = rev * 10 + digit\n",
    "    n //=10\n",
    "print(rev)"
   ]
  },
  {
   "cell_type": "code",
   "execution_count": 55,
   "metadata": {},
   "outputs": [
    {
     "data": {
      "text/plain": [
       "'palindrome'"
      ]
     },
     "execution_count": 55,
     "metadata": {},
     "output_type": "execute_result"
    }
   ],
   "source": [
    "def palindrome(x):\n",
    "    x = str(x)\n",
    "    if x == x[::-1]:\n",
    "        return 'palindrome'\n",
    "    else:\n",
    "        return 'not'\n",
    "palindrome(121)"
   ]
  },
  {
   "cell_type": "code",
   "execution_count": 2,
   "metadata": {},
   "outputs": [
    {
     "name": "stdout",
     "output_type": "stream",
     "text": [
      "arm\n"
     ]
    }
   ],
   "source": [
    "def armstrong(x):\n",
    "    temp = x\n",
    "    total = 0\n",
    "    while x > 0:\n",
    "        digit = x % 10\n",
    "        total += digit ** 3\n",
    "        x //= 10\n",
    "    if temp == total:\n",
    "        print('arm')\n",
    "    else:\n",
    "        print('not')\n",
    "armstrong(153)"
   ]
  },
  {
   "cell_type": "code",
   "execution_count": 18,
   "metadata": {},
   "outputs": [
    {
     "name": "stdout",
     "output_type": "stream",
     "text": [
      "arm\n"
     ]
    }
   ],
   "source": [
    "def arm(x):\n",
    "    temp = x\n",
    "    total = 0\n",
    "    while x > 0:\n",
    "        digit = x % 10\n",
    "        total += digit ** 3\n",
    "        x //= 10\n",
    "    if temp == total:\n",
    "        print('arm')\n",
    "    else:\n",
    "        print('nnot')\n",
    "arm(153)"
   ]
  },
  {
   "cell_type": "code",
   "execution_count": 19,
   "metadata": {},
   "outputs": [
    {
     "data": {
      "text/plain": [
       "13"
      ]
     },
     "execution_count": 19,
     "metadata": {},
     "output_type": "execute_result"
    }
   ],
   "source": [
    "def largest_in_arr(arr):\n",
    "    large = arr[0]\n",
    "    for i in arr:\n",
    "        if i > large:\n",
    "            large = i\n",
    "    return large\n",
    "largest_in_arr([2,13,1,2,6,9])"
   ]
  },
  {
   "cell_type": "code",
   "execution_count": 4,
   "metadata": {},
   "outputs": [
    {
     "data": {
      "text/plain": [
       "1"
      ]
     },
     "execution_count": 4,
     "metadata": {},
     "output_type": "execute_result"
    }
   ],
   "source": [
    "def smallest(arr):\n",
    "    small = arr[0]\n",
    "    for i in arr:\n",
    "        if i < small:\n",
    "            small = i\n",
    "    return small\n",
    "smallest([2,13,1,2,6,9])"
   ]
  },
  {
   "cell_type": "code",
   "execution_count": 5,
   "metadata": {},
   "outputs": [
    {
     "data": {
      "text/plain": [
       "[9, 6, 2, 1, 13, 2]"
      ]
     },
     "execution_count": 5,
     "metadata": {},
     "output_type": "execute_result"
    }
   ],
   "source": [
    "def reverse_arr(arr):\n",
    "    left = 0\n",
    "    right = len(arr)-1\n",
    "    while left < right:\n",
    "        temp = arr[left]\n",
    "        arr[left] = arr[right]\n",
    "        arr[right] = temp\n",
    "\n",
    "        left +=1\n",
    "        right -= 1\n",
    "    return arr\n",
    "reverse_arr([2,13,1,2,6,9])"
   ]
  },
  {
   "cell_type": "code",
   "execution_count": 6,
   "metadata": {},
   "outputs": [
    {
     "data": {
      "text/plain": [
       "[1, 2, 6, 9, 13]"
      ]
     },
     "execution_count": 6,
     "metadata": {},
     "output_type": "execute_result"
    }
   ],
   "source": [
    "def remove_dup(arr):\n",
    "    return list(set(arr))\n",
    "remove_dup([2,13,1,2,6,9])"
   ]
  },
  {
   "cell_type": "code",
   "execution_count": 7,
   "metadata": {},
   "outputs": [
    {
     "data": {
      "text/plain": [
       "[2, 13, 1, 6, 9]"
      ]
     },
     "execution_count": 7,
     "metadata": {},
     "output_type": "execute_result"
    }
   ],
   "source": [
    "from collections import Counter\n",
    "def remove_dup2(arr):\n",
    "    res = Counter(arr)\n",
    "    temp = [*res]\n",
    "    return temp\n",
    "remove_dup2([2,13,1,2,6,9])"
   ]
  },
  {
   "cell_type": "code",
   "execution_count": 8,
   "metadata": {},
   "outputs": [
    {
     "data": {
      "text/plain": [
       "4"
      ]
     },
     "execution_count": 8,
     "metadata": {},
     "output_type": "execute_result"
    }
   ],
   "source": [
    "def linear(arr,x):\n",
    "    for i in range(len(arr)):\n",
    "        if arr[i] ==x:\n",
    "            return i\n",
    "linear([2,13,1,2,6,9],6)"
   ]
  },
  {
   "cell_type": "code",
   "execution_count": 9,
   "metadata": {},
   "outputs": [
    {
     "data": {
      "text/plain": [
       "4"
      ]
     },
     "execution_count": 9,
     "metadata": {},
     "output_type": "execute_result"
    }
   ],
   "source": [
    "def binary(arr,x):\n",
    "    left = 0\n",
    "    right = len(arr)-1\n",
    "    while left < right:\n",
    "        mid = (left + right)//2\n",
    "        if arr[mid] ==x :\n",
    "            return mid\n",
    "        elif arr[mid] < x:\n",
    "            left = mid + 1\n",
    "        elif arr[mid] > x:\n",
    "            right = mid - 1\n",
    "    return arr\n",
    "binary([2,13,1,2,6,9],6)"
   ]
  },
  {
   "cell_type": "code",
   "execution_count": 10,
   "metadata": {},
   "outputs": [
    {
     "data": {
      "text/plain": [
       "[1, 2, 2, 6, 9, 13]"
      ]
     },
     "execution_count": 10,
     "metadata": {},
     "output_type": "execute_result"
    }
   ],
   "source": [
    "def sortarr(arr):\n",
    "    left = 0\n",
    "    right = len(arr)\n",
    "    while left < right -1:\n",
    "        if arr[left] > arr[left +1]:\n",
    "            temp = arr[left]\n",
    "            arr[left] = arr[left +1]\n",
    "            arr[left+1] = temp\n",
    "            left = -1\n",
    "        left +=1\n",
    "    return arr\n",
    "sortarr([2,13,1,2,6,9])"
   ]
  },
  {
   "cell_type": "code",
   "execution_count": 11,
   "metadata": {},
   "outputs": [
    {
     "data": {
      "text/plain": [
       "120"
      ]
     },
     "execution_count": 11,
     "metadata": {},
     "output_type": "execute_result"
    }
   ],
   "source": [
    "def fact(n):\n",
    "    \n",
    "    if n == 0 or n ==1:\n",
    "        return 1\n",
    "    return  n * fact(n-1)\n",
    "fact(5)"
   ]
  },
  {
   "cell_type": "code",
   "execution_count": 12,
   "metadata": {},
   "outputs": [
    {
     "data": {
      "text/plain": [
       "'htas'"
      ]
     },
     "execution_count": 12,
     "metadata": {},
     "output_type": "execute_result"
    }
   ],
   "source": [
    "def reverse_str(string):\n",
    "    if len(string) == 0:\n",
    "        return string\n",
    "    return reverse_str(string[1:]) + string[0]\n",
    "reverse_str(\"sath\")"
   ]
  },
  {
   "cell_type": "code",
   "execution_count": 13,
   "metadata": {},
   "outputs": [
    {
     "data": {
      "text/plain": [
       "Counter({'a': 2, 's': 1, 't': 1, 'h': 1})"
      ]
     },
     "execution_count": 13,
     "metadata": {},
     "output_type": "execute_result"
    }
   ],
   "source": [
    "from collections import Counter\n",
    "def find_fre_str(string):\n",
    "    seen = Counter(string)\n",
    "    return seen\n",
    "find_fre_str('saath')"
   ]
  },
  {
   "cell_type": "code",
   "execution_count": 14,
   "metadata": {},
   "outputs": [
    {
     "data": {
      "text/plain": [
       "[1, 2, 2, 6, 9, 13]"
      ]
     },
     "execution_count": 14,
     "metadata": {},
     "output_type": "execute_result"
    }
   ],
   "source": [
    "def bubble_sort(arr):\n",
    "    for i in range(len(arr)):\n",
    "        for j in range(len(arr)-i-1):\n",
    "            if arr[j] > arr[j+1]:\n",
    "                arr[j], arr[j+1] = arr[j+1] , arr[j]\n",
    "    return arr\n",
    "bubble_sort([2,13,1,2,6,9])\n",
    "            \n"
   ]
  },
  {
   "cell_type": "code",
   "execution_count": 24,
   "metadata": {},
   "outputs": [
    {
     "data": {
      "text/plain": [
       "True"
      ]
     },
     "execution_count": 24,
     "metadata": {},
     "output_type": "execute_result"
    }
   ],
   "source": [
    "def is_palindrome(string):\n",
    "    s = \"\".join(char.lower() for char in string if char.isalnum())\n",
    "    if s == s[::-1]:\n",
    "        return True\n",
    "    return False\n",
    "is_palindrome(\"A man, a plan, a canal, Panama\")"
   ]
  },
  {
   "cell_type": "code",
   "execution_count": 16,
   "metadata": {},
   "outputs": [
    {
     "data": {
      "text/plain": [
       "True"
      ]
     },
     "execution_count": 16,
     "metadata": {},
     "output_type": "execute_result"
    }
   ],
   "source": [
    "def valid(s):\n",
    "    seen = { ')' : '(', ']': '[', '}' : '{'}\n",
    "    stack = []\n",
    "    for char in s:\n",
    "        if char in seen.values():\n",
    "            stack.append(char)\n",
    "        elif char in seen.keys():\n",
    "            if not stack or stack.pop() != seen[char]:\n",
    "                return False\n",
    "        else:\n",
    "            return False\n",
    "    return not stack\n",
    "valid(\"()[]{}\")"
   ]
  },
  {
   "cell_type": "code",
   "execution_count": 26,
   "metadata": {},
   "outputs": [
    {
     "data": {
      "text/plain": [
       "False"
      ]
     },
     "execution_count": 26,
     "metadata": {},
     "output_type": "execute_result"
    }
   ],
   "source": [
    "def prime(n):\n",
    "    if n <=1:\n",
    "        return False\n",
    "    for i in range(2,n):\n",
    "        if n % i ==0 :\n",
    "            return False\n",
    "    return True\n",
    "prime(6)"
   ]
  },
  {
   "cell_type": "code",
   "execution_count": 29,
   "metadata": {},
   "outputs": [
    {
     "data": {
      "text/plain": [
       "[0, 1]"
      ]
     },
     "execution_count": 29,
     "metadata": {},
     "output_type": "execute_result"
    }
   ],
   "source": [
    "def two_sum(arr,x):\n",
    "    seen = {}\n",
    "    for i , num in enumerate(arr):\n",
    "        comp = x - num\n",
    "        if comp in seen:\n",
    "            return [seen[comp],i]\n",
    "        seen[num] = i\n",
    "    return []\n",
    "two_sum([2, 7, 11, 15],9)\n",
    "\n"
   ]
  },
  {
   "cell_type": "code",
   "execution_count": 31,
   "metadata": {},
   "outputs": [
    {
     "data": {
      "text/plain": [
       "341"
      ]
     },
     "execution_count": 31,
     "metadata": {},
     "output_type": "execute_result"
    }
   ],
   "source": [
    "def reverse(num):\n",
    "    rev = 0\n",
    "    while num > 0:\n",
    "        digit = num % 10\n",
    "        rev = rev * 10 + digit\n",
    "        num //=10\n",
    "    return rev\n",
    "reverse(143)"
   ]
  },
  {
   "cell_type": "code",
   "execution_count": 33,
   "metadata": {},
   "outputs": [
    {
     "data": {
      "text/plain": [
       "6"
      ]
     },
     "execution_count": 33,
     "metadata": {},
     "output_type": "execute_result"
    }
   ],
   "source": [
    "def max_subarr(arr):\n",
    "    cur_sum = 0\n",
    "    maxsum = 0\n",
    "    for num in arr:\n",
    "        cur_sum = max(num, cur_sum + num)\n",
    "        maxsum = max(cur_sum,maxsum)\n",
    "    return maxsum\n",
    "max_subarr([-2, 1, -3, 4, -1, 2, 1, -5, 4])"
   ]
  },
  {
   "cell_type": "code",
   "execution_count": 43,
   "metadata": {},
   "outputs": [
    {
     "data": {
      "text/plain": [
       "12"
      ]
     },
     "execution_count": 43,
     "metadata": {},
     "output_type": "execute_result"
    }
   ],
   "source": [
    "def add_without(a,b):\n",
    "    while b != 0:\n",
    "        carry = a & b\n",
    "        a = a ^ b\n",
    "        b = carry << 1\n",
    "    return a\n",
    "\n",
    "\n",
    "\n",
    "add_without(7,5)"
   ]
  },
  {
   "cell_type": "code",
   "execution_count": 45,
   "metadata": {},
   "outputs": [
    {
     "data": {
      "text/plain": [
       "6"
      ]
     },
     "execution_count": 45,
     "metadata": {},
     "output_type": "execute_result"
    }
   ],
   "source": [
    "def max_sub(arr):\n",
    "    cursum = 0\n",
    "    maxsum = 0\n",
    "    for i in arr:\n",
    "        cursum = max(i, cursum+i)\n",
    "        maxsum = max(cursum, maxsum)\n",
    "    return maxsum\n",
    "max_subarr([-2, 1, -3, 4, -1, 2, 1, -5, 4])"
   ]
  },
  {
   "cell_type": "code",
   "execution_count": 48,
   "metadata": {},
   "outputs": [
    {
     "data": {
      "text/plain": [
       "20"
      ]
     },
     "execution_count": 48,
     "metadata": {},
     "output_type": "execute_result"
    }
   ],
   "source": [
    "def max_prod_two(arr):\n",
    "    if len(arr) < 2:\n",
    "        return None\n",
    "    max1 = max(arr[0], arr[1] )\n",
    "    max2 = min(arr[0], arr[1])\n",
    "\n",
    "    for i in range(2,len(arr)):\n",
    "        if arr[i] > max1:\n",
    "            max2 = max1\n",
    "            max1 = arr[i]\n",
    "        elif arr[i] > max2:\n",
    "            max2 = arr[i]\n",
    "    return max1 * max2\n",
    "    \n",
    "max_prod_two([1, 2, 3, 4, 5])"
   ]
  },
  {
   "cell_type": "code",
   "execution_count": 56,
   "metadata": {},
   "outputs": [
    {
     "data": {
      "text/plain": [
       "['abc', 'acb', 'bac', 'bca', 'cab', 'cba']"
      ]
     },
     "execution_count": 56,
     "metadata": {},
     "output_type": "execute_result"
    }
   ],
   "source": [
    "def permutations(s):\n",
    "    if len(s)<=1:\n",
    "        return s\n",
    "    perms = []\n",
    "    for i in range(len(s)):\n",
    "        first = s[i]\n",
    "        remaining = s[:i] + s[i+1:]\n",
    "        subperms = permutations(remaining)\n",
    "        for sub in subperms:\n",
    "            perms.append(first + sub)\n",
    "    return perms\n",
    "permutations('abc')\n"
   ]
  },
  {
   "cell_type": "code",
   "execution_count": 59,
   "metadata": {},
   "outputs": [
    {
     "data": {
      "text/plain": [
       "['abc', 'acb', 'bac', 'bca', 'cab', 'cba']"
      ]
     },
     "execution_count": 59,
     "metadata": {},
     "output_type": "execute_result"
    }
   ],
   "source": [
    "def perm(s):\n",
    "    if len(s) <=1:\n",
    "        return s\n",
    "    perms = []\n",
    "    for i in range(len(s)):\n",
    "        first = s[i]\n",
    "        remain = s[:i] + s[i+1:]\n",
    "        subperms = perm(remain)\n",
    "        for sub in subperms:\n",
    "            perms.append(first + sub)\n",
    "    return perms\n",
    "perm('abc')"
   ]
  },
  {
   "cell_type": "code",
   "execution_count": 64,
   "metadata": {},
   "outputs": [
    {
     "data": {
      "text/plain": [
       "[6, 5, 4, 3, 2, 1]"
      ]
     },
     "execution_count": 64,
     "metadata": {},
     "output_type": "execute_result"
    }
   ],
   "source": [
    "def reverse_array(arr):\n",
    "    return arr[::-1]\n",
    "reverse_array([1, 2, 3, 4, 5,6])\n"
   ]
  },
  {
   "cell_type": "code",
   "execution_count": 67,
   "metadata": {},
   "outputs": [
    {
     "data": {
      "text/plain": [
       "False"
      ]
     },
     "execution_count": 67,
     "metadata": {},
     "output_type": "execute_result"
    }
   ],
   "source": [
    "def pr(n):\n",
    "    if n <=1:\n",
    "        return False\n",
    "    for i in range(2,n):\n",
    "        if n % i ==0:\n",
    "            return False\n",
    "    return True\n",
    "pr(10)"
   ]
  },
  {
   "cell_type": "code",
   "execution_count": 73,
   "metadata": {},
   "outputs": [
    {
     "data": {
      "text/plain": [
       "[0, 1, 1, 2, 3, 5, 8, 13, 21, 34, 55, 89]"
      ]
     },
     "execution_count": 73,
     "metadata": {},
     "output_type": "execute_result"
    }
   ],
   "source": [
    "def fib(n):\n",
    "    fibs = [0,1]\n",
    "    if n == 0 or n ==1 :\n",
    "        return 1\n",
    "    for i in range(n):\n",
    "\n",
    "        fibs.append(fibs[-1] + fibs[-2])\n",
    "    return fibs\n",
    "fib(10)"
   ]
  }
 ],
 "metadata": {
  "kernelspec": {
   "display_name": "venv",
   "language": "python",
   "name": "python3"
  },
  "language_info": {
   "codemirror_mode": {
    "name": "ipython",
    "version": 3
   },
   "file_extension": ".py",
   "mimetype": "text/x-python",
   "name": "python",
   "nbconvert_exporter": "python",
   "pygments_lexer": "ipython3",
   "version": "3.12.2"
  }
 },
 "nbformat": 4,
 "nbformat_minor": 2
}
