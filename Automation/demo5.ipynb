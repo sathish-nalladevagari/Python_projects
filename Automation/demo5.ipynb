{
 "cells": [
  {
   "cell_type": "code",
   "execution_count": 31,
   "metadata": {},
   "outputs": [
    {
     "ename": "TypeError",
     "evalue": "string indices must be integers, not 'str'",
     "output_type": "error",
     "traceback": [
      "\u001b[1;31m---------------------------------------------------------------------------\u001b[0m",
      "\u001b[1;31mTypeError\u001b[0m                                 Traceback (most recent call last)",
      "Cell \u001b[1;32mIn[31], line 9\u001b[0m\n\u001b[0;32m      4\u001b[0m url \u001b[38;5;241m=\u001b[39m \u001b[38;5;124m'\u001b[39m\u001b[38;5;124mhttps://www.naukri.com/mnj/dashboard\u001b[39m\u001b[38;5;124m'\u001b[39m\n\u001b[0;32m      8\u001b[0m \u001b[38;5;66;03m# Send a GET request with cookies included in the headers\u001b[39;00m\n\u001b[1;32m----> 9\u001b[0m response \u001b[38;5;241m=\u001b[39m \u001b[43mrequests\u001b[49m\u001b[38;5;241;43m.\u001b[39;49m\u001b[43mget\u001b[49m\u001b[43m(\u001b[49m\u001b[43murl\u001b[49m\u001b[43m,\u001b[49m\u001b[43m \u001b[49m\u001b[43mcookies\u001b[49m\u001b[38;5;241;43m=\u001b[39;49m\u001b[38;5;124;43m'\u001b[39;49m\u001b[38;5;124;43mtest=naukri.com; PS=d075c8f77c09394090703ba0282cc6e52d8a0e507af65e230d78bc5f89ba5d24237376ccad94d1f7; _ff_ds=0978825001703616774-8E7E4A6B80A9-EB5C295B8EDA; _abck=A25D29A5F9B6F964DE5DE73F734E7061~0~YAAQnHEsMSHrg2mMAQAAkmlgtAtlQ5LVqeQc7mNcYw/O7AE9BXxJjRac7xRlCbfS/OikyG4IPU0YUkzgjJ3nbuLhWw0FCD/xl48m7+LKgv5TVVnMYkMNNmekbpYTwNtJtqAedOXyCfXgp/1I+ITElhJ+rlezqS9OUkNPplb4Cftlv4tSvCBnSHNmCWUp8v6TkTlVu5HWiUek7iW7Zi/P+i19QbbQyCTLchwvaW2/kDGUt2Ha+4YKqmQiUm3ngY1Grg6IoayjhgrTfaChmxft12WO+q6gocA5jr0DP75+zks+flDsj/+pvbZ8v4iOngbYRFUvF7QbR1+pgU7CXuB1agJ101Vm4v2qBnPPIM1LE2D8UnP0zSGkLCNhY5p1jQUp5dq5T4+SLXChajgG9RHavwzZZbYUbJ0R~-1~-1~-1; _t_ds=ff81f041712310679-55ff81f04-0ff81f04; J=0; PS=d075c8f77c09394090703ba0282cc6e52d8a0e507af65e230d78bc5f89ba5d24237376ccad94d1f7; MYNAUKRI[UNID]=12865da6958a461587050d92a0ab12d7; ACTIVE=1714541387; promobnr=NAUK30; ak_bmsc=0F13E400A314D9D06F8541917D3D5C34~000000000000000000000000000000~YAAQVXEsMTVTZzWPAQAATfQhOhcGlV3KF/Sy+khgupGtLNHB1Oxg0lqqIBA7Nkz8c5v3+n94qDL3aNnm3MH1Lf4vC7GFd+uCrZdyMQq+pVe8WayojDbtN853WPDHCrZuN4aoSsfUkADTvdlBraExcj4ETMu8YmgBBoXzuZZRbYyC7XL9L2LtKgavnKtY2nFLPidPeN+Vg+xoh8GTU4B7ALxvgJzzfA43iIjyU34Wsqr2w/B+43OKmM4Okjgl7GvMAhUH946Fz6pWtB7tezpW/X5uUJ9g5dVfCi3tH5AvpQ8ET5vdbP0+Wjkm6vmftk12eWhMpP4UnM/EHAzk620mJqXCSM0QWUaojWQQ4ZkeextWvWsXAkinHdrFhOELaGsgGwF6rodejxxdN32dE9pjCj1hhpeGLXmTjL3Xvix38PDDXFMxsuXdW16clvLMpTPENbXV9jsYuZ+r1GmIYGcC7CBMyh5+fxiav8U=; _t_us=6633BF82; _t_s=direct; persona=default; nauk_at=eyJraWQiOiIxIiwidHlwIjoiSldUIiwiYWxnIjoiUlM1MTIifQ.eyJkZXZpY2VUeXBlIjoiZDNza3QwcCIsInVkX3Jlc0lkIjoyNDUzNjQ4ODMsInN1YiI6IjI1ODg0ODU5MSIsInVkX3VzZXJuYW1lIjoic2F0aGlzaC5uYWxsYWRldmFnYXJpMDRAZ21haWwuY29tIiwidWRfaXNFbWFpbCI6dHJ1ZSwiaXNzIjoiSW5mb0VkZ2UgSW5kaWEgUHZ0LiBMdGQuIiwidXNlckFnZW50IjoiTW96aWxsYS81LjAgKExpbnV4OyBBbmRyb2lkIDYuMDsgTmV4dXMgNSBCdWlsZC9NUkE1OE4pIEFwcGxlV2ViS2l0LzUzNy4zNiAoS0hUTUwsIGxpa2UgR2Vja28pIENocm9tZS8xMjQuMC4wLjAgTW9iaWxlIFNhZmFyaS81MzcuMzYiLCJpcEFkcmVzcyI6IjI3LjQuNTEuNzQiLCJ1ZF9pc1RlY2hPcHNMb2dpbiI6ZmFsc2UsInVzZXJJZCI6MjU4ODQ4NTkxLCJzdWJVc2VyVHlwZSI6ImpvYnNlZWtlciIsInVzZXJTdGF0ZSI6IkFVVEhFTlRJQ0FURUQiLCJ1ZF9pc1BhaWRDbGllbnQiOmZhbHNlLCJ1ZF9lbWFpbFZlcmlmaWVkIjp0cnVlLCJ1c2VyVHlwZSI6ImpvYnNlZWtlciIsInNlc3Npb25TdGF0VGltZSI6IjIwMjQtMDUtMDJUMjI6MDE6MTgiLCJ1ZF9lbWFpbCI6InNhdGhpc2gubmFsbGFkZXZhZ2FyaTA0QGdtYWlsLmNvbSIsInVzZXJSb2xlIjoidXNlciIsImV4cCI6MTcxNDY3MTA3OCwidG9rZW5UeXBlIjoiYWNjZXNzVG9rZW4iLCJpYXQiOjE3MTQ2Njc0NzgsImp0aSI6IjM1NzViOTEyZTBiNDQwYjA5Mjc4ZjY4ODg4MTNhOTBjIn0.KCTU5Tqh2PbY0u2I3634ideSvJ3Pk8hAM72yhi4DIxsCSPup-zOcNIG7GeSNcmFJDoMoFByJLjYb7l2d6QbPibG4H1c-cPsOtQvGermdioA4MwDSL_8mmWrN6GsVHt5wlWTthQiNVm8lrK7jr-4uHs-JB552ImWOLelwdGEbD8Q7nOPhz656EvW-eXqvnhUwg4LGBfoSCHk73H6hxZGw0XZkDzIG2oiifa0l7NGbz5NFCXOlaTJQMxACZxHZExawG21BCygfHnZb22qybj-n7w2ivVrdoTZD7HObQfiWjnL_OPwwNnPzp4qaejkrQeYVMj8Iz3bLrQaXE1B7G-x7LQ; nauk_rt=eyJraWQiOiIxIiwidHlwIjoiSldUIiwiYWxnIjoiUlM1MTIifQ.eyJkZXZpY2VUeXBlIjoiZDNza3QwcCIsInVkX3Jlc0lkIjoyNDUzNjQ4ODMsInN1YiI6IjI1ODg0ODU5MSIsInVkX3VzZXJuYW1lIjoic2F0aGlzaC5uYWxsYWRldmFnYXJpMDRAZ21haWwuY29tIiwidWRfaXNFbWFpbCI6dHJ1ZSwiaXNzIjoiSW5mb0VkZ2UgSW5kaWEgUHZ0LiBMdGQuIiwidXNlckFnZW50IjoiTW96aWxsYS81LjAgKExpbnV4OyBBbmRyb2lkIDYuMDsgTmV4dXMgNSBCdWlsZC9NUkE1OE4pIEFwcGxlV2ViS2l0LzUzNy4zNiAoS0hUTUwsIGxpa2UgR2Vja28pIENocm9tZS8xMjQuMC4wLjAgTW9iaWxlIFNhZmFyaS81MzcuMzYiLCJpcEFkcmVzcyI6IjI3LjQuNTEuNzQiLCJ1ZF9pc1RlY2hPcHNMb2dpbiI6ZmFsc2UsInVzZXJJZCI6MjU4ODQ4NTkxLCJzdWJVc2VyVHlwZSI6ImpvYnNlZWtlciIsInVzZXJTdGF0ZSI6IkFVVEhFTlRJQ0FURUQiLCJ1ZF9pc1BhaWRDbGllbnQiOmZhbHNlLCJ1ZF9lbWFpbFZlcmlmaWVkIjp0cnVlLCJ1c2VyVHlwZSI6ImpvYnNlZWtlciIsInNlc3Npb25TdGF0VGltZSI6IjIwMjQtMDUtMDJUMjI6MDE6MTgiLCJ1ZF9lbWFpbCI6InNhdGhpc2gubmFsbGFkZXZhZ2FyaTA0QGdtYWlsLmNvbSIsInVzZXJSb2xlIjoidXNlciIsImV4cCI6MTc0NjIwMzQ3OCwidG9rZW5UeXBlIjoicmVmcmVzaFRva2VuIiwiaWF0IjoxNzE0NjY3NDc4LCJqdGkiOiIzNTc1YjkxMmUwYjQ0MGIwOTI3OGY2ODg4ODEzYTkwYyJ9.f6EdWeY33pK_dJ0yeg4QZnDldaIwLuTOXLkLmQnYYj-XIcNxWj8dgDYAVCZSzYrxrk7NlEt-Tk3us5yr9kTIsQSWZIwjDGhSPhRq6GboKlgw-noh_X5hdVFzEiBUseH4Ya4PkSum2lbJhk6NU4e7OHiettbVvp0uAOmYJNYMJ-Uj7rZjt39E4aDIFZuvCJnjQTmAs7mEQqBAv5emef5EEBAeqfsmvYAjlVY5sqJ9HFbRTmKimbCxe60FPmcMDRNKvtMjV74r_M1_F7wiP1qwjifeJSb0jt3MZt80vEqni6Q8suQCgb-893yIOt5PSTl4pUi17OErYeQswUQGe0Wx8w; is_login=1; nauk_sid=3575b912e0b440b09278f6888813a90c; nauk_otl=3575b912e0b440b09278f6888813a90c; NKWAP=8ab0cca197ab2f18c6e3b04e22da18494adec39ebdcf4dac9b8330c955361b0711739a654ca384809a86cc384cde9c370d99ad6a3af22255~8ab0cca197ab2f18c6e3b04e22da18494adec39ebdcf4dac9b8330c955361b0711739a654ca384809a86cc384cde9c370d99ad6a3af22255~1~0; nauk_ps=default; _t_r=1091\u001b[39;49m\u001b[38;5;132;43;01m%2F\u001b[39;49;00m\u001b[38;5;132;43;01m%2F\u001b[39;49;00m\u001b[38;5;124;43m; bm_sv=EE7DA08AAB312CD082E511F7A8A2FB25~YAAQ5cEzuM9bajOPAQAAeG0lOhcQtOxyt1JukOXz6t8Q5GQJ5ceBOouxgF72+QKdeW/VkjzmZWL2gqmApMo6Q/L7u5jsg76ejyOxTsZPdgi3A7HDSwbzeZvzKlNDemLe8VX1byKTzViM4w32tSCyPeThQAOamjsJqg148klPabGKQ1fyxiGP7tUf6go8YR4wLORdn4lRV5NkmrNni2aKhIBhNgNWNeFOKJPNn7qdxY5O14XsXfwR5OxcazNXjmMZ6g==~1; HOWTORT=ul=1714667496815&r=https\u001b[39;49m\u001b[38;5;124;43m%\u001b[39;49m\u001b[38;5;124;43m3A\u001b[39;49m\u001b[38;5;132;43;01m%2F\u001b[39;49;00m\u001b[38;5;132;43;01m%2F\u001b[39;49;00m\u001b[38;5;124;43mwww.naukri.com\u001b[39;49m\u001b[38;5;132;43;01m%2F\u001b[39;49;00m\u001b[38;5;124;43mmnj\u001b[39;49m\u001b[38;5;132;43;01m%2F\u001b[39;49;00m\u001b[38;5;124;43mdashboard&hd=1714667384781\u001b[39;49m\u001b[38;5;124;43m'\u001b[39;49m\u001b[43m)\u001b[49m\n\u001b[0;32m     11\u001b[0m \u001b[38;5;66;03m# Check if the request was successful\u001b[39;00m\n\u001b[0;32m     12\u001b[0m \u001b[38;5;28;01mif\u001b[39;00m response\u001b[38;5;241m.\u001b[39mstatus_code \u001b[38;5;241m==\u001b[39m \u001b[38;5;241m200\u001b[39m:\n",
      "File \u001b[1;32md:\\Python_projects\\venv\\Lib\\site-packages\\requests\\api.py:73\u001b[0m, in \u001b[0;36mget\u001b[1;34m(url, params, **kwargs)\u001b[0m\n\u001b[0;32m     62\u001b[0m \u001b[38;5;28;01mdef\u001b[39;00m \u001b[38;5;21mget\u001b[39m(url, params\u001b[38;5;241m=\u001b[39m\u001b[38;5;28;01mNone\u001b[39;00m, \u001b[38;5;241m*\u001b[39m\u001b[38;5;241m*\u001b[39mkwargs):\n\u001b[0;32m     63\u001b[0m \u001b[38;5;250m    \u001b[39m\u001b[38;5;124mr\u001b[39m\u001b[38;5;124;03m\"\"\"Sends a GET request.\u001b[39;00m\n\u001b[0;32m     64\u001b[0m \n\u001b[0;32m     65\u001b[0m \u001b[38;5;124;03m    :param url: URL for the new :class:`Request` object.\u001b[39;00m\n\u001b[1;32m   (...)\u001b[0m\n\u001b[0;32m     70\u001b[0m \u001b[38;5;124;03m    :rtype: requests.Response\u001b[39;00m\n\u001b[0;32m     71\u001b[0m \u001b[38;5;124;03m    \"\"\"\u001b[39;00m\n\u001b[1;32m---> 73\u001b[0m     \u001b[38;5;28;01mreturn\u001b[39;00m \u001b[43mrequest\u001b[49m\u001b[43m(\u001b[49m\u001b[38;5;124;43m\"\u001b[39;49m\u001b[38;5;124;43mget\u001b[39;49m\u001b[38;5;124;43m\"\u001b[39;49m\u001b[43m,\u001b[49m\u001b[43m \u001b[49m\u001b[43murl\u001b[49m\u001b[43m,\u001b[49m\u001b[43m \u001b[49m\u001b[43mparams\u001b[49m\u001b[38;5;241;43m=\u001b[39;49m\u001b[43mparams\u001b[49m\u001b[43m,\u001b[49m\u001b[43m \u001b[49m\u001b[38;5;241;43m*\u001b[39;49m\u001b[38;5;241;43m*\u001b[39;49m\u001b[43mkwargs\u001b[49m\u001b[43m)\u001b[49m\n",
      "File \u001b[1;32md:\\Python_projects\\venv\\Lib\\site-packages\\requests\\api.py:59\u001b[0m, in \u001b[0;36mrequest\u001b[1;34m(method, url, **kwargs)\u001b[0m\n\u001b[0;32m     55\u001b[0m \u001b[38;5;66;03m# By using the 'with' statement we are sure the session is closed, thus we\u001b[39;00m\n\u001b[0;32m     56\u001b[0m \u001b[38;5;66;03m# avoid leaving sockets open which can trigger a ResourceWarning in some\u001b[39;00m\n\u001b[0;32m     57\u001b[0m \u001b[38;5;66;03m# cases, and look like a memory leak in others.\u001b[39;00m\n\u001b[0;32m     58\u001b[0m \u001b[38;5;28;01mwith\u001b[39;00m sessions\u001b[38;5;241m.\u001b[39mSession() \u001b[38;5;28;01mas\u001b[39;00m session:\n\u001b[1;32m---> 59\u001b[0m     \u001b[38;5;28;01mreturn\u001b[39;00m \u001b[43msession\u001b[49m\u001b[38;5;241;43m.\u001b[39;49m\u001b[43mrequest\u001b[49m\u001b[43m(\u001b[49m\u001b[43mmethod\u001b[49m\u001b[38;5;241;43m=\u001b[39;49m\u001b[43mmethod\u001b[49m\u001b[43m,\u001b[49m\u001b[43m \u001b[49m\u001b[43murl\u001b[49m\u001b[38;5;241;43m=\u001b[39;49m\u001b[43murl\u001b[49m\u001b[43m,\u001b[49m\u001b[43m \u001b[49m\u001b[38;5;241;43m*\u001b[39;49m\u001b[38;5;241;43m*\u001b[39;49m\u001b[43mkwargs\u001b[49m\u001b[43m)\u001b[49m\n",
      "File \u001b[1;32md:\\Python_projects\\venv\\Lib\\site-packages\\requests\\sessions.py:575\u001b[0m, in \u001b[0;36mSession.request\u001b[1;34m(self, method, url, params, data, headers, cookies, files, auth, timeout, allow_redirects, proxies, hooks, stream, verify, cert, json)\u001b[0m\n\u001b[0;32m    562\u001b[0m \u001b[38;5;66;03m# Create the Request.\u001b[39;00m\n\u001b[0;32m    563\u001b[0m req \u001b[38;5;241m=\u001b[39m Request(\n\u001b[0;32m    564\u001b[0m     method\u001b[38;5;241m=\u001b[39mmethod\u001b[38;5;241m.\u001b[39mupper(),\n\u001b[0;32m    565\u001b[0m     url\u001b[38;5;241m=\u001b[39murl,\n\u001b[1;32m   (...)\u001b[0m\n\u001b[0;32m    573\u001b[0m     hooks\u001b[38;5;241m=\u001b[39mhooks,\n\u001b[0;32m    574\u001b[0m )\n\u001b[1;32m--> 575\u001b[0m prep \u001b[38;5;241m=\u001b[39m \u001b[38;5;28;43mself\u001b[39;49m\u001b[38;5;241;43m.\u001b[39;49m\u001b[43mprepare_request\u001b[49m\u001b[43m(\u001b[49m\u001b[43mreq\u001b[49m\u001b[43m)\u001b[49m\n\u001b[0;32m    577\u001b[0m proxies \u001b[38;5;241m=\u001b[39m proxies \u001b[38;5;129;01mor\u001b[39;00m {}\n\u001b[0;32m    579\u001b[0m settings \u001b[38;5;241m=\u001b[39m \u001b[38;5;28mself\u001b[39m\u001b[38;5;241m.\u001b[39mmerge_environment_settings(\n\u001b[0;32m    580\u001b[0m     prep\u001b[38;5;241m.\u001b[39murl, proxies, stream, verify, cert\n\u001b[0;32m    581\u001b[0m )\n",
      "File \u001b[1;32md:\\Python_projects\\venv\\Lib\\site-packages\\requests\\sessions.py:473\u001b[0m, in \u001b[0;36mSession.prepare_request\u001b[1;34m(self, request)\u001b[0m\n\u001b[0;32m    471\u001b[0m \u001b[38;5;66;03m# Bootstrap CookieJar.\u001b[39;00m\n\u001b[0;32m    472\u001b[0m \u001b[38;5;28;01mif\u001b[39;00m \u001b[38;5;129;01mnot\u001b[39;00m \u001b[38;5;28misinstance\u001b[39m(cookies, cookielib\u001b[38;5;241m.\u001b[39mCookieJar):\n\u001b[1;32m--> 473\u001b[0m     cookies \u001b[38;5;241m=\u001b[39m \u001b[43mcookiejar_from_dict\u001b[49m\u001b[43m(\u001b[49m\u001b[43mcookies\u001b[49m\u001b[43m)\u001b[49m\n\u001b[0;32m    475\u001b[0m \u001b[38;5;66;03m# Merge with session cookies\u001b[39;00m\n\u001b[0;32m    476\u001b[0m merged_cookies \u001b[38;5;241m=\u001b[39m merge_cookies(\n\u001b[0;32m    477\u001b[0m     merge_cookies(RequestsCookieJar(), \u001b[38;5;28mself\u001b[39m\u001b[38;5;241m.\u001b[39mcookies), cookies\n\u001b[0;32m    478\u001b[0m )\n",
      "File \u001b[1;32md:\\Python_projects\\venv\\Lib\\site-packages\\requests\\cookies.py:537\u001b[0m, in \u001b[0;36mcookiejar_from_dict\u001b[1;34m(cookie_dict, cookiejar, overwrite)\u001b[0m\n\u001b[0;32m    535\u001b[0m     \u001b[38;5;28;01mfor\u001b[39;00m name \u001b[38;5;129;01min\u001b[39;00m cookie_dict:\n\u001b[0;32m    536\u001b[0m         \u001b[38;5;28;01mif\u001b[39;00m overwrite \u001b[38;5;129;01mor\u001b[39;00m (name \u001b[38;5;129;01mnot\u001b[39;00m \u001b[38;5;129;01min\u001b[39;00m names_from_jar):\n\u001b[1;32m--> 537\u001b[0m             cookiejar\u001b[38;5;241m.\u001b[39mset_cookie(create_cookie(name, \u001b[43mcookie_dict\u001b[49m\u001b[43m[\u001b[49m\u001b[43mname\u001b[49m\u001b[43m]\u001b[49m))\n\u001b[0;32m    539\u001b[0m \u001b[38;5;28;01mreturn\u001b[39;00m cookiejar\n",
      "\u001b[1;31mTypeError\u001b[0m: string indices must be integers, not 'str'"
     ]
    }
   ],
   "source": [
    "import requests\n",
    "\n",
    "# URL of the page you want to access\n",
    "url = 'https://www.naukri.com/mnj/dashboard'\n",
    "\n",
    "# Load cookies from a text file\n",
    "with open('cookies.txt', 'r') as file:\n",
    "    cookies = {}\n",
    "    for line in file.read().split('; '):\n",
    "        key, value = line.split('=', 1)\n",
    "        cookies[key] = value\n",
    "\n",
    "# Send a GET request with cookies included in the headers\n",
    "response = requests.get(url, cookies='')\n",
    "\n",
    "# Check if the request was successful\n",
    "if response.status_code == 200:\n",
    "    print('Page accessed successfully!')\n",
    "else:\n",
    "    print('Failed to access page:', response.status_code)\n"
   ]
  },
  {
   "cell_type": "code",
   "execution_count": 20,
   "metadata": {},
   "outputs": [
    {
     "name": "stdout",
     "output_type": "stream",
     "text": [
      "dgs\n"
     ]
    }
   ],
   "source": [
    "print(\"dgs\")"
   ]
  }
 ],
 "metadata": {
  "kernelspec": {
   "display_name": "venv",
   "language": "python",
   "name": "python3"
  },
  "language_info": {
   "codemirror_mode": {
    "name": "ipython",
    "version": 3
   },
   "file_extension": ".py",
   "mimetype": "text/x-python",
   "name": "python",
   "nbconvert_exporter": "python",
   "pygments_lexer": "ipython3",
   "version": "3.12.2"
  }
 },
 "nbformat": 4,
 "nbformat_minor": 2
}
