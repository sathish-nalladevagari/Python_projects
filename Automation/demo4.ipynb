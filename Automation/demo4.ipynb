{
 "cells": [
  {
   "cell_type": "code",
   "execution_count": 7,
   "metadata": {},
   "outputs": [
    {
     "ename": "NoSuchElementException",
     "evalue": "Message: no such element: Unable to locate element: {\"method\":\"css selector\",\"selector\":\".nI-gNb-sb__main\"}\n  (Session info: chrome=124.0.6367.63); For documentation on this error, please visit: https://www.selenium.dev/documentation/webdriver/troubleshooting/errors#no-such-element-exception\nStacktrace:\n\tGetHandleVerifier [0x00007FF6A1BA1502+60802]\n\t(No symbol) [0x00007FF6A1B1AC02]\n\t(No symbol) [0x00007FF6A19D7CE4]\n\t(No symbol) [0x00007FF6A1A26D4D]\n\t(No symbol) [0x00007FF6A1A26E1C]\n\t(No symbol) [0x00007FF6A1A6CE37]\n\t(No symbol) [0x00007FF6A1A4ABBF]\n\t(No symbol) [0x00007FF6A1A6A224]\n\t(No symbol) [0x00007FF6A1A4A923]\n\t(No symbol) [0x00007FF6A1A18FEC]\n\t(No symbol) [0x00007FF6A1A19C21]\n\tGetHandleVerifier [0x00007FF6A1EA411D+3217821]\n\tGetHandleVerifier [0x00007FF6A1EE60B7+3488055]\n\tGetHandleVerifier [0x00007FF6A1EDF03F+3459263]\n\tGetHandleVerifier [0x00007FF6A1C5B846+823494]\n\t(No symbol) [0x00007FF6A1B25F9F]\n\t(No symbol) [0x00007FF6A1B20EC4]\n\t(No symbol) [0x00007FF6A1B21052]\n\t(No symbol) [0x00007FF6A1B118A4]\n\tBaseThreadInitThunk [0x00007FFE6DAB257D+29]\n\tRtlUserThreadStart [0x00007FFE6E82AA48+40]\n",
     "output_type": "error",
     "traceback": [
      "\u001b[1;31m---------------------------------------------------------------------------\u001b[0m",
      "\u001b[1;31mNoSuchElementException\u001b[0m                    Traceback (most recent call last)",
      "Cell \u001b[1;32mIn[7], line 27\u001b[0m\n\u001b[0;32m     23\u001b[0m password \u001b[38;5;241m=\u001b[39m driver\u001b[38;5;241m.\u001b[39mfind_element(By\u001b[38;5;241m.\u001b[39mXPATH,\u001b[38;5;124m\"\u001b[39m\u001b[38;5;124m//input[@placeholder=\u001b[39m\u001b[38;5;124m'\u001b[39m\u001b[38;5;124mEnter your password\u001b[39m\u001b[38;5;124m'\u001b[39m\u001b[38;5;124m]\u001b[39m\u001b[38;5;124m\"\u001b[39m)\n\u001b[0;32m     25\u001b[0m password\u001b[38;5;241m.\u001b[39msend_keys(\u001b[38;5;124m\"\u001b[39m\u001b[38;5;124m20010129\u001b[39m\u001b[38;5;124m\"\u001b[39m \u001b[38;5;241m+\u001b[39m Keys\u001b[38;5;241m.\u001b[39mENTER)\n\u001b[1;32m---> 27\u001b[0m srch \u001b[38;5;241m=\u001b[39m \u001b[43mdriver\u001b[49m\u001b[38;5;241;43m.\u001b[39;49m\u001b[43mfind_element\u001b[49m\u001b[43m(\u001b[49m\u001b[43mBy\u001b[49m\u001b[38;5;241;43m.\u001b[39;49m\u001b[43mCSS_SELECTOR\u001b[49m\u001b[43m,\u001b[49m\u001b[38;5;124;43m'\u001b[39;49m\u001b[38;5;124;43m.nI-gNb-sb__main\u001b[39;49m\u001b[38;5;124;43m'\u001b[39;49m\u001b[43m)\u001b[49m\n\u001b[0;32m     29\u001b[0m srch\u001b[38;5;241m.\u001b[39mclick()\n\u001b[0;32m     30\u001b[0m time\u001b[38;5;241m.\u001b[39msleep(\u001b[38;5;241m1\u001b[39m)\n",
      "File \u001b[1;32md:\\Python_projects\\venv\\Lib\\site-packages\\selenium\\webdriver\\remote\\webdriver.py:741\u001b[0m, in \u001b[0;36mWebDriver.find_element\u001b[1;34m(self, by, value)\u001b[0m\n\u001b[0;32m    738\u001b[0m     by \u001b[38;5;241m=\u001b[39m By\u001b[38;5;241m.\u001b[39mCSS_SELECTOR\n\u001b[0;32m    739\u001b[0m     value \u001b[38;5;241m=\u001b[39m \u001b[38;5;124mf\u001b[39m\u001b[38;5;124m'\u001b[39m\u001b[38;5;124m[name=\u001b[39m\u001b[38;5;124m\"\u001b[39m\u001b[38;5;132;01m{\u001b[39;00mvalue\u001b[38;5;132;01m}\u001b[39;00m\u001b[38;5;124m\"\u001b[39m\u001b[38;5;124m]\u001b[39m\u001b[38;5;124m'\u001b[39m\n\u001b[1;32m--> 741\u001b[0m \u001b[38;5;28;01mreturn\u001b[39;00m \u001b[38;5;28;43mself\u001b[39;49m\u001b[38;5;241;43m.\u001b[39;49m\u001b[43mexecute\u001b[49m\u001b[43m(\u001b[49m\u001b[43mCommand\u001b[49m\u001b[38;5;241;43m.\u001b[39;49m\u001b[43mFIND_ELEMENT\u001b[49m\u001b[43m,\u001b[49m\u001b[43m \u001b[49m\u001b[43m{\u001b[49m\u001b[38;5;124;43m\"\u001b[39;49m\u001b[38;5;124;43musing\u001b[39;49m\u001b[38;5;124;43m\"\u001b[39;49m\u001b[43m:\u001b[49m\u001b[43m \u001b[49m\u001b[43mby\u001b[49m\u001b[43m,\u001b[49m\u001b[43m \u001b[49m\u001b[38;5;124;43m\"\u001b[39;49m\u001b[38;5;124;43mvalue\u001b[39;49m\u001b[38;5;124;43m\"\u001b[39;49m\u001b[43m:\u001b[49m\u001b[43m \u001b[49m\u001b[43mvalue\u001b[49m\u001b[43m}\u001b[49m\u001b[43m)\u001b[49m[\u001b[38;5;124m\"\u001b[39m\u001b[38;5;124mvalue\u001b[39m\u001b[38;5;124m\"\u001b[39m]\n",
      "File \u001b[1;32md:\\Python_projects\\venv\\Lib\\site-packages\\selenium\\webdriver\\remote\\webdriver.py:347\u001b[0m, in \u001b[0;36mWebDriver.execute\u001b[1;34m(self, driver_command, params)\u001b[0m\n\u001b[0;32m    345\u001b[0m response \u001b[38;5;241m=\u001b[39m \u001b[38;5;28mself\u001b[39m\u001b[38;5;241m.\u001b[39mcommand_executor\u001b[38;5;241m.\u001b[39mexecute(driver_command, params)\n\u001b[0;32m    346\u001b[0m \u001b[38;5;28;01mif\u001b[39;00m response:\n\u001b[1;32m--> 347\u001b[0m     \u001b[38;5;28;43mself\u001b[39;49m\u001b[38;5;241;43m.\u001b[39;49m\u001b[43merror_handler\u001b[49m\u001b[38;5;241;43m.\u001b[39;49m\u001b[43mcheck_response\u001b[49m\u001b[43m(\u001b[49m\u001b[43mresponse\u001b[49m\u001b[43m)\u001b[49m\n\u001b[0;32m    348\u001b[0m     response[\u001b[38;5;124m\"\u001b[39m\u001b[38;5;124mvalue\u001b[39m\u001b[38;5;124m\"\u001b[39m] \u001b[38;5;241m=\u001b[39m \u001b[38;5;28mself\u001b[39m\u001b[38;5;241m.\u001b[39m_unwrap_value(response\u001b[38;5;241m.\u001b[39mget(\u001b[38;5;124m\"\u001b[39m\u001b[38;5;124mvalue\u001b[39m\u001b[38;5;124m\"\u001b[39m, \u001b[38;5;28;01mNone\u001b[39;00m))\n\u001b[0;32m    349\u001b[0m     \u001b[38;5;28;01mreturn\u001b[39;00m response\n",
      "File \u001b[1;32md:\\Python_projects\\venv\\Lib\\site-packages\\selenium\\webdriver\\remote\\errorhandler.py:229\u001b[0m, in \u001b[0;36mErrorHandler.check_response\u001b[1;34m(self, response)\u001b[0m\n\u001b[0;32m    227\u001b[0m         alert_text \u001b[38;5;241m=\u001b[39m value[\u001b[38;5;124m\"\u001b[39m\u001b[38;5;124malert\u001b[39m\u001b[38;5;124m\"\u001b[39m]\u001b[38;5;241m.\u001b[39mget(\u001b[38;5;124m\"\u001b[39m\u001b[38;5;124mtext\u001b[39m\u001b[38;5;124m\"\u001b[39m)\n\u001b[0;32m    228\u001b[0m     \u001b[38;5;28;01mraise\u001b[39;00m exception_class(message, screen, stacktrace, alert_text)  \u001b[38;5;66;03m# type: ignore[call-arg]  # mypy is not smart enough here\u001b[39;00m\n\u001b[1;32m--> 229\u001b[0m \u001b[38;5;28;01mraise\u001b[39;00m exception_class(message, screen, stacktrace)\n",
      "\u001b[1;31mNoSuchElementException\u001b[0m: Message: no such element: Unable to locate element: {\"method\":\"css selector\",\"selector\":\".nI-gNb-sb__main\"}\n  (Session info: chrome=124.0.6367.63); For documentation on this error, please visit: https://www.selenium.dev/documentation/webdriver/troubleshooting/errors#no-such-element-exception\nStacktrace:\n\tGetHandleVerifier [0x00007FF6A1BA1502+60802]\n\t(No symbol) [0x00007FF6A1B1AC02]\n\t(No symbol) [0x00007FF6A19D7CE4]\n\t(No symbol) [0x00007FF6A1A26D4D]\n\t(No symbol) [0x00007FF6A1A26E1C]\n\t(No symbol) [0x00007FF6A1A6CE37]\n\t(No symbol) [0x00007FF6A1A4ABBF]\n\t(No symbol) [0x00007FF6A1A6A224]\n\t(No symbol) [0x00007FF6A1A4A923]\n\t(No symbol) [0x00007FF6A1A18FEC]\n\t(No symbol) [0x00007FF6A1A19C21]\n\tGetHandleVerifier [0x00007FF6A1EA411D+3217821]\n\tGetHandleVerifier [0x00007FF6A1EE60B7+3488055]\n\tGetHandleVerifier [0x00007FF6A1EDF03F+3459263]\n\tGetHandleVerifier [0x00007FF6A1C5B846+823494]\n\t(No symbol) [0x00007FF6A1B25F9F]\n\t(No symbol) [0x00007FF6A1B20EC4]\n\t(No symbol) [0x00007FF6A1B21052]\n\t(No symbol) [0x00007FF6A1B118A4]\n\tBaseThreadInitThunk [0x00007FFE6DAB257D+29]\n\tRtlUserThreadStart [0x00007FFE6E82AA48+40]\n"
     ]
    }
   ],
   "source": [
    "from selenium import webdriver\n",
    "from selenium.webdriver.common.by import By\n",
    "from selenium.webdriver.common.keys import Keys\n",
    "from selenium.webdriver.support.ui import WebDriverWait\n",
    "from selenium.webdriver.support import expected_conditions as EC\n",
    "import time\n",
    "\n",
    "driver = webdriver.Chrome()\n",
    "\n",
    "\n",
    "\n",
    "driver.get(\"https://www.naukri.com/\")\n",
    "\n",
    "login_btn = driver.find_element(By.ID, \"login_Layer\")\n",
    "login_btn.click()\n",
    "\n",
    "time.sleep(2)\n",
    "\n",
    "\n",
    "email = driver.find_element(By.XPATH,\"//input[@placeholder='Enter your active Email ID / Username']\")\n",
    "email.send_keys(\"sathish.nalladevagari04@gmail.com\")\n",
    "\n",
    "password = driver.find_element(By.XPATH,\"//input[@placeholder='Enter your password']\")\n",
    "\n",
    "password.send_keys(\"20010129\" + Keys.ENTER)\n",
    "\n",
    "srch = driver.find_element(By.CSS_SELECTOR,'.nI-gNb-sb__main')\n",
    "\n",
    "srch.click()\n",
    "time.sleep(1)\n",
    "\n",
    "skill_enter = driver.find_element(By.CLASS_NAME, 'suggestor-input ')\n",
    "skill_enter.send_keys(\"Python, Devops\" + Keys.ENTER )\n",
    "\n",
    "\n",
    "\n",
    "\n",
    "\n",
    "time.sleep(5)\n",
    "\n",
    "driver.close()\n"
   ]
  }
 ],
 "metadata": {
  "kernelspec": {
   "display_name": "venv",
   "language": "python",
   "name": "python3"
  },
  "language_info": {
   "codemirror_mode": {
    "name": "ipython",
    "version": 3
   },
   "file_extension": ".py",
   "mimetype": "text/x-python",
   "name": "python",
   "nbconvert_exporter": "python",
   "pygments_lexer": "ipython3",
   "version": "3.12.2"
  }
 },
 "nbformat": 4,
 "nbformat_minor": 2
}
